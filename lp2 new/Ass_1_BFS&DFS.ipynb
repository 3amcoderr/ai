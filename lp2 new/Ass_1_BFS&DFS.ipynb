{
 "cells": [
  {
   "cell_type": "markdown",
   "metadata": {
    "id": "FJj3NuHaQKvM"
   },
   "source": [
    "**Breadth First Search and Depth First Search**\n",
    "\n",
    "1. BFS Code:"
   ]
  },
  {
   "cell_type": "code",
   "execution_count": 16,
   "metadata": {
    "colab": {
     "base_uri": "https://localhost:8080/",
     "height": 0
    },
    "executionInfo": {
     "elapsed": 463,
     "status": "ok",
     "timestamp": 1685000111422,
     "user": {
      "displayName": "Aaditya Bansude",
      "userId": "05732230439820512175"
     },
     "user_tz": -330
    },
    "id": "wp6BJdJD94AM",
    "outputId": "20761bb3-7a00-4693-9b79-ed1c7583ca83"
   },
   "outputs": [
    {
     "name": "stdout",
     "output_type": "stream",
     "text": [
      "BFS:\n",
      "5\n",
      "3\n",
      "7\n",
      "2\n",
      "4\n",
      "8\n"
     ]
    }
   ],
   "source": [
    "graph = {\n",
    "    '5': ['3', '7'],\n",
    "    '3': ['2', '4'],\n",
    "    '7': ['8'],\n",
    "    '2': [],\n",
    "    '4': ['8'],\n",
    "    '8': []\n",
    "}\n",
    "\n",
    "visited = []\n",
    "queue = []\n",
    "\n",
    "def bfs(visited, graph, node):\n",
    "  visited.append(node)\n",
    "  queue.append(node)\n",
    "\n",
    "  while queue:\n",
    "    m = queue.pop(0)\n",
    "    print(m, end='\\n')\n",
    "\n",
    "    for neighbour in graph[m]:\n",
    "      if neighbour not in visited:\n",
    "        visited.append(neighbour)\n",
    "        queue.append(neighbour)\n",
    "\n",
    "print(\"BFS:\")\n",
    "bfs(visited, graph, '5')\n",
    "\n",
    "# Output:"
   ]
  },
  {
   "cell_type": "markdown",
   "metadata": {
    "id": "Ej39zxz9Qjff"
   },
   "source": [
    "2. DFS Code:"
   ]
  },
  {
   "cell_type": "code",
   "execution_count": 18,
   "metadata": {
    "colab": {
     "base_uri": "https://localhost:8080/",
     "height": 0
    },
    "executionInfo": {
     "elapsed": 6,
     "status": "ok",
     "timestamp": 1685000850109,
     "user": {
      "displayName": "Aaditya Bansude",
      "userId": "05732230439820512175"
     },
     "user_tz": -330
    },
    "id": "rK65WXDD_0Uf",
    "outputId": "4c925e53-ffff-47dd-a220-edd735a580dd"
   },
   "outputs": [
    {
     "name": "stdout",
     "output_type": "stream",
     "text": [
      "DFS:\n",
      "5\n",
      "3\n",
      "2\n",
      "4\n",
      "8\n",
      "7\n"
     ]
    }
   ],
   "source": [
    "graph = {\n",
    "    '5': ['3', '7'],\n",
    "    '3': ['2', '4'],\n",
    "    '7': ['8'],\n",
    "    '2': [],\n",
    "    '4': ['8'],\n",
    "    '8': []\n",
    "}\n",
    "\n",
    "visited = []\n",
    "\n",
    "def dfs(visited, graph, node):\n",
    "  if node not in visited:\n",
    "    print(node)\n",
    "    visited.append(node)\n",
    "    for neighbour in graph[node]:\n",
    "      dfs(visited, graph, neighbour)\n",
    "\n",
    "print(\"DFS:\")\n",
    "dfs(visited, graph, '5')\n",
    "\n",
    "# Output:"
   ]
  },
  {
   "cell_type": "markdown",
   "metadata": {},
   "source": [
    "BFS steps:\n",
    "1. Choose any one node randomly, to start traversing.\n",
    "2. Visit its adjacent unvisited node.\n",
    "3. Mark it as visited in the boolean array and display it.\n",
    "4. Insert the visited node into the queue.\n",
    "5. If there is no adjacent node, remove the first node from the queue.\n",
    "6. Repeat the above steps until the queue is empty.\n",
    "\n",
    "\n",
    "DFS Steps:\n",
    "1. Create a graph.\n",
    "2. Initialize a starting node.\n",
    "3. Send the graph and initial node as parameters to the bfs function.\n",
    "4. Mark the initial node as visited and push it into the queue.\n",
    "5. Explore the initial node and add its neighbours to the queue and remove the initial\n",
    "   node from the queue.\n",
    "6. Check if the neighbours node of a neighbouring node is already visited.\n",
    "7. If not, visit the neighbouring node neighbours and mark them as visited.\n",
    "8. Repeat this process until all the nodes in a graph are visited and the queue becomes\n",
    "   empty."
   ]
  }
 ],
 "metadata": {
  "colab": {
   "authorship_tag": "ABX9TyOOWl7t7Hy4+6CbgV9Pfwvm",
   "provenance": []
  },
  "kernelspec": {
   "display_name": "Python 3 (ipykernel)",
   "language": "python",
   "name": "python3"
  },
  "language_info": {
   "codemirror_mode": {
    "name": "ipython",
    "version": 3
   },
   "file_extension": ".py",
   "mimetype": "text/x-python",
   "name": "python",
   "nbconvert_exporter": "python",
   "pygments_lexer": "ipython3",
   "version": "3.9.7"
  }
 },
 "nbformat": 4,
 "nbformat_minor": 1
}
