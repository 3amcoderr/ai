{
 "cells": [
  {
   "cell_type": "markdown",
   "metadata": {
    "id": "e7FqlBrKPkRq"
   },
   "source": [
    "**A Star Algorithm - Optimal Path from given Graph**\n",
    "\n",
    "Code:"
   ]
  },
  {
   "cell_type": "code",
   "execution_count": 2,
   "metadata": {
    "colab": {
     "base_uri": "https://localhost:8080/",
     "height": 0
    },
    "executionInfo": {
     "elapsed": 559,
     "status": "ok",
     "timestamp": 1684991193060,
     "user": {
      "displayName": "Aaditya Bansude",
      "userId": "05732230439820512175"
     },
     "user_tz": -330
    },
    "id": "MzEYMYVhFbUt",
    "outputId": "c4aaef0e-0d8c-4360-c748-76897381b0b7"
   },
   "outputs": [
    {
     "name": "stdout",
     "output_type": "stream",
     "text": [
      "Path found:\n"
     ]
    },
    {
     "data": {
      "text/plain": [
       "['A', 'E', 'D', 'G']"
      ]
     },
     "execution_count": 2,
     "metadata": {},
     "output_type": "execute_result"
    }
   ],
   "source": [
    "def aStarAlgo (start_node, stop_node):\n",
    "  open_set = set(start_node)\n",
    "  closed_set = set()\n",
    "  g = {} \n",
    "  parents = {}\n",
    "  g[start_node] = 0\n",
    "  parents[start_node] = start_node\n",
    "  while len (open_set) > 0:\n",
    "    n= None\n",
    "    for v in open_set:\n",
    "      if n == None or g[v] + heuristic(v) < g[n] + heuristic (n):\n",
    "        n = v\n",
    "    if n == stop_node or Graph_nodes[n] == None:\n",
    "      pass\n",
    "    else:\n",
    "      for (m, weight) in get_neighbors(n):\n",
    "        if m not in open_set and m not in closed_set:\n",
    "          open_set.add(m)\n",
    "          parents[m] = n\n",
    "          g[m] = g[n] + weight\n",
    "        else:\n",
    "          if g[m] > g[n] + weight:\n",
    "            g[m] = g[n] + weight\n",
    "            parents [m] = n\n",
    "            if m in closed_set:\n",
    "              closed_set.remove(m) \n",
    "              open_set.add(m)\n",
    "\n",
    "    if n == None :\n",
    "      print('Path does not exist!')\n",
    "      return None\n",
    "    if n == stop_node:\n",
    "      path = []\n",
    "      while parents[n] != n:\n",
    "        path.append(n)\n",
    "        n = parents[n]\n",
    "      path.append(start_node)\n",
    "      path.reverse()\n",
    "      print('Path found:')\n",
    "      return path\n",
    "    open_set.remove(n)\n",
    "    closed_set.add(n)\n",
    "\n",
    "def get_neighbors (v):\n",
    "  if v in Graph_nodes:\n",
    "    return Graph_nodes[v]\n",
    "  else:\n",
    "    return None\n",
    "\n",
    "def heuristic(n):\n",
    "  H_dist = {\n",
    "    'A': 11,\n",
    "    'B': 6,\n",
    "    'C': 99,\n",
    "    'D': 1,\n",
    "    'E': 7,\n",
    "    'G': 0,\n",
    "  }\n",
    "  return H_dist[n]\n",
    "\n",
    "Graph_nodes = {\n",
    "  'A': [('B', 2), ('E', 3)],\n",
    "  'B': [('C', 1),('G', 9)], \n",
    "  'C': None,\n",
    "  'E': [('D', 6)],\n",
    "  'D': [('G', 1)],\n",
    "}\n",
    "\n",
    "aStarAlgo('A', 'G')\n",
    "\n",
    "# Output:"
   ]
  },
  {
   "cell_type": "markdown",
   "metadata": {},
   "source": [
    "Step 1: Place the starting node in the OPEN list.\n",
    "Step 2: Check if the OPEN list is empty or not, if the list is empty then return failure and\n",
    "stops.\n",
    "Step 3: Select the node from the OPEN list which has the smallest value of evaluation\n",
    "function (g+h), if node n is goal node then return success and stop, otherwise\n",
    "Step 4: Expand node n and generate all of its successors, and put n into the closed list. For\n",
    "each successor n', check whether n' is already in the OPEN or CLOSED list, if not then\n",
    "compute evaluation function for n' and place into Open list.\n",
    "Step 5: Else if node n' is already in OPEN and CLOSED, then it should be attached to the\n",
    "back pointer which reflects the lowest g(n') value.\n",
    "Step 6: Return to Step 2."
   ]
  }
 ],
 "metadata": {
  "colab": {
   "authorship_tag": "ABX9TyPMfpmm0+n5mQuKhUjNOYak",
   "provenance": []
  },
  "kernelspec": {
   "display_name": "Python 3 (ipykernel)",
   "language": "python",
   "name": "python3"
  },
  "language_info": {
   "codemirror_mode": {
    "name": "ipython",
    "version": 3
   },
   "file_extension": ".py",
   "mimetype": "text/x-python",
   "name": "python",
   "nbconvert_exporter": "python",
   "pygments_lexer": "ipython3",
   "version": "3.9.7"
  }
 },
 "nbformat": 4,
 "nbformat_minor": 1
}
